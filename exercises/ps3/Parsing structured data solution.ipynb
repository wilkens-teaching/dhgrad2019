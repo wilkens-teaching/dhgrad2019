{
 "cells": [
  {
   "cell_type": "markdown",
   "metadata": {},
   "source": [
    "# Parsing structured data\n",
    "\n",
    "XML and JSON are formats you'll use often when dealing with textual data. Many texts are encoded in XML or one of its specific flavors, such as TEI. XML is much the older of the two, and by far the more powerful. It has a long history in print and electronic publishing, and is still commonly used in the production of edited texts, complex websites, and certain computational projects. It's a descendant of SGML and a proper superset of HTML.\n",
    "\n",
    "JSON, on the other hand, is simpler, lighter weight, newer, and generally easier to compute with. It's the de facto format for data exchange on the web.\n",
    "\n",
    "This exercise asks you to ingest, parse, and work with structured data in both XML and JSON formats.\n",
    "\n",
    "### XML\n",
    "\n",
    "We'll begin with XML, the more difficult of the two. XML looks a lot like HTML, if you've seen that. The main difference is that, where HTML consists of a fixed set of allowable tags, XML tags can be defined arbitrarily according to a spec of the user's choosing. In practice, we won't do much with this, but you'll often find yourself dealing with other projects' arbitrary XML use. For our purposes, all that matters is that you can figure out -- mostly by human examination -- which tags are used to encode what information.\n",
    "\n",
    "Here's an example of some XML:\n",
    "\n",
    "```\n",
    "<?xml version=\"1.0\" encoding=\"utf-8\"?>\n",
    "<TEI xmlns:xsi=\"http://www.w3.org/2001/XMLSchema-instance\"\n",
    "     xmlns=\"http://www.tei-c.org/ns/1.0\"\n",
    "     xsi:schemaLocation=\"http://www.tei-c.org/ns/1.0 http://www.dlib.indiana.edu/lib/xml/tei/p5/general.xsd\"\n",
    "     xml:id=\"VAC5615\">\n",
    "   <teiHeader>\n",
    "      <fileDesc>\n",
    "         <titleStmt>\n",
    "            <title>Growler's Income Tax </title>\n",
    "            <author>Arthur, T. S. (1809-1885)</author>\n",
    "         </titleStmt>\n",
    "         ...\n",
    "      </fileDesc>\n",
    "   </teiHeader>\n",
    "</TEI>\n",
    "```\n",
    "\n",
    "Exciting, no? This is the beginning of the file you'll use in this exercise. You can see that it begins with information about the XML version and schema used (it's TEI, just so you know). Then there's a header, which contains a title statement, which contains title and author info, etc. This is how XML, HTML, and other structured markup languages work: each element contains one or more others. These are often referred to as parent and child elements. Every child has exactly one parent, but parents many have multiple children and may be children themselves. In the above example,  `<title>` is the child of `<titleStmt>`, which is in turn the child of `<fileDesc>`. `<title>` and `<author>` are siblings.\n",
    "\n",
    "#### Beautiful Soup\n",
    "\n",
    "Parsing XML in the general case is a pain. You absolutely *do not* want to build a general-purpose XML parser. But you don't need to; other people have done it. One of the most widely used XML parsers for Python is [Beautiful Soup](http://www.crummy.com/software/BeautifulSoup/). (OK, technically Beautiful Soup is a wrapper for other parsers, but whatever.)\n",
    "\n",
    "Review two sources of information about BeatutifulSoup: The [documentation](http://www.crummy.com/software/BeautifulSoup/bs4/doc/) and a [tutorial](http://programminghistorian.org/lessons/intro-to-beautiful-soup) from the Programming Historian. Note that both of these sources cover installation, which is unnecessary if you're using Anaconda (because BeautifulSoup is included therein). Everything you need to know to complete this portion of the exercise is contained in the \"Quick Start\" section of the BS docs.\n",
    "\n",
    "Grab a copy of *Growler's Income Tax* by T.S. Arthur in TEI-XML format from the same GitHub directory as this exercise. Save this file in the same directory in which your iPython notebook is saved.\n",
    "\n",
    "There are a lot of things you can do with BeautifulSoup, all of which depend on parsing an XML or HTML document and then searching or modifying the parsed results. In the present case, you'll need to extract four pieces of information from the XML file in question:\n",
    "\n",
    "1. The full, library-style author record, in the form \"LastName, FirstName (born-died)\".\n",
    "2. The number of paragraphs in the body of the text.\n",
    "3. The number of words in the body of the text.\n",
    "4. The full, plain-text (no XML tags) content of the embedded epistle.\n",
    "\n",
    "To do this, you'll need to know how the XML file is structured. Spend some time looking at it, whether in the GitHub display or in a text editor (but probably not Word, which tends to mess with markup). Each piece of information above can be extracted with one line of code, once you've imported and parsed the XML, though you may certainly use more than one line for each if you prefer. You'll use the `find`, `find_all`, and `get_text` methods of BeautifulSoup, plus other things you've learned as necessary. Potential gotcha: BeautifulSoup converts all tag names to lowercase.\n",
    "\n",
    "Enter your code in the cell or cells below. I've given you the code to import BeuatifulSoup and load the XML file, though you may need to change the file name and location to match whatever you've used. Your code should print the four pieces of information listed above."
   ]
  },
  {
   "cell_type": "code",
   "execution_count": 15,
   "metadata": {
    "collapsed": true
   },
   "outputs": [],
   "source": [
    "from bs4 import BeautifulSoup\n",
    "with open('growler.xml', 'r') as f:\n",
    "    soup = BeautifulSoup(f, \"xml\")"
   ]
  },
  {
   "cell_type": "markdown",
   "metadata": {},
   "source": [
    "Uncomment the lines below to print XML and plain-text versions of the text. No need to do this, but it can be useful to verify that the import worked correctly, as well as to see how you go about extracting information from the parsed data."
   ]
  },
  {
   "cell_type": "code",
   "execution_count": 16,
   "metadata": {
    "collapsed": false
   },
   "outputs": [
    {
     "name": "stdout",
     "output_type": "stream",
     "text": [
      "\n",
      "\n",
      "Growler's income tax\n",
      "\n",
      "GROWLER'S INCOME TAX.\n",
      "BY T.S. ARTHUR.\n",
      "My neighbor Growler, an excitable man by the way, is particularly excited over his Income Tax, or, as he called it, his \"War Tax.\" He had never liked the war—thought it unnecessary and wicked; the work of politicians. The fighting of brother against brother was a terrible thing in his eyes. If you asked him who begun the war?—who struck at the nation's life?—if self defence were not a duty?—he would reply with vague generalities, made up of partisan tricky sentences, which he had learned without comprehending their just significance.\n",
      "Growler came in upon me the other day flourishing a square piece of blue writing paper, quite moved from his equanimity.\n",
      "\"There it is! Just so much robbery! Stand and deliver, is the word. Pistols and bayonets! Your money or your life!\"\n",
      "I took the piece of paper from his hand and read:\n",
      "\n",
      "\n",
      "\n",
      "\n",
      "\n",
      "\"Philadelphia, Sept., 1863.\n",
      "\n",
      "\"RICHARD GROWLER, ESQ.,\n",
      "\"To JOHN M. RILEY. Dr.\n",
      "\"Collector Internal Revenue for the 4th District of \n",
      "Pennsylvania. Office 427 Chestnut St.\n",
      "\n",
      "\n",
      "\"For Tax on Income, for the year 1862 as per return made to the Assessor of the District, $43,21.\n",
      "\n",
      "\"Rec'd payment,\n",
      "\"JOHN M. RILEY, Collector.\"\n",
      "\n",
      "\n",
      "\n",
      "\n",
      "\n",
      "\"You're all right,\" I said smiling.\n",
      "\"I'd like to know what you mean, by all right!\" Growler was just a little offended at my way of treating this serious matter—serious in his eyes, I mean. \"I've been robbed of forty-three dollars and twenty-one cents,\" he continued.\n",
      "\"Do you say it is all right! A minion of the Government has put his hands into my pocket and taken just so much of my property. Is that all right?\"\n",
      "\"The same thing may be set forth in very different language,\" I replied, \"Let me state the case.\"\n",
      "\"Very well—state it!\" said Growler, dumping himself into a chair, and looking as ill-humored as possible.\n",
      "\n",
      "\"Instead of being robbed,\" said I, \"you have been protected in your property and person, and guaranteed all the high privileges of citizenship, for the paltry sum of forty-three dollars and twenty-one cents, as your share of the protection.\"\n",
      "\"O, that's only your way of putting the case,\" retorted Growler, dropping a little from his high tone of indignation.\n",
      "\"Let me be more particular in my way of putting the case. Your income is from the rent of property?\"\n",
      "\"Yes.\"\n",
      "\"What would it have cost you to defend that property from the army of Gen. Lee, recently driven from our State by the nation's soldiers?\"\n",
      "\"Cost me?\" Growler looked at me in a kind of daze, as if he thought me half in jest.\n",
      "\"Exactly! What would it have cost you? Lee, if unopposed, would certainly have reached this city and held it; and if your property had been of use to him or to any of his officers or soldiers it would have been appropriated without so much as saying—'By your leave, sir'? Would forty-three dollars and twenty-one cents have covered the damage? Perhaps not. Possibly, you might have lost one half or two thirds of all you are worth.\"\n",
      "Growler was a trifle bewildered at this way of putting the case. He looked puzzled.\n",
      "\"You have a store on South wharves?\" said I.\n",
      "\"Yes.\"\n",
      "\"What has kept the Alabama or the Florida from running up the Delaware and burning the whole city front? Do you have forts and ships of war for the protection of your property? If not who provides them? They are provided, and you are safe. What is your share of the expenses for a whole year! Just forty-three dollars and twenty-one cents! It sounds like a jest!\"\n",
      "Growler did not answer. So I kept on.\n",
      "\"But for out immense armies in the field, and navy on the water, this rebellion would have succeeded. What then? Have you ever pondered the future of this country in such an event? Have you thought of your own position? of the loss or gain to yourself? How long do you think we would be at peace with England or France, if the nation were dismembered, and a hostile Confederation established on our Southern border? Would our war taxes be less than now? Would life and property be more secure? Have you not an interest in our great army and navy, as I and every other member of the Union. Does not your safety as well as mine lie in their existence? Are they not, at this time, the conservators of everything we hold dear as men and citizens? Who equips and pays this army? Who builds and furnishes these ships? Where does the enormous sums of money required come from? It is the nation's work—the people aggregate in power and munificence, and so irresistible in might—unconquerable. Have you no heartswelling of pride in this magnificent exhibition of will and strength? No part in the nation's glory? No eager hand helping to stretch forth?\n",
      "Growler was silent still.\n",
      "\"There was no power in you or me to check the wave of destruction that was launched by \n",
      "paricidal\n",
      "parricidal\n",
      " hands against us. If unresisted, by the nation as an aggregate power, it would have swept in desolation over the whole land. Traitors in our midst and traitors moving in arms against us would have united to destroy our beautiful fabric of civil liberty. The Government, which dealt with all good citizens so kindly and gentle, not that one in a thousand felt its touch beyond the weight of a feather, would have been subverted; and who can tell under what iron rule we might have fallen for a time, or how many years of strife would have elapsed before that civil liberty which ensures the greatest good to numbers would have been again established? But the wave of destruction was met—nay, hurled back upon the enemies who sought our ruin. We yet dwell in safety. Your property is secure. You still gather your annual income, protected in all your rights by the strong national arm. And what does the nation assess to you as your share in the cost of this security? Half your property? No, not a farthing of that property! only a small per centage of your income from that property! Just forty-three dollars and twenty-one cents! Pardon me for saying it, friend G. but I am more than half ashamed of you.\n",
      "\"And seeing the way you put the case I am more than half ashamed of myself,\" he answered frankly. \"Why, taking your view this is about the cheapest investment I ever made.\"\n",
      "\"You certainly get more money than in any other line of expenditure. Yesterday I had a letter from an old friend living in the neighborhood of Carlisle. The rebels took from him six fine horses, worth two hundred dollars apiece; six cows and oxen; and over two hundred bushels of grain. And not content with plundering him, they burnt down a barn which cost him nearly two thousand dollars. But for the men raised and equipped by the nation, in support of which you and I are taxed so lightly, we might have suffered as severely. How much do you think it cost in money for the protection we have received in this particular instance?\"\n",
      "\"A million dollars perhaps?\"\n",
      "\"Nearer ten millions of dollars. From the time our army left the Rappahannock, until the battle of Gettysburg, its cost to the Government could scarcely have been less than we have mentioned. Of this sum your proportion can scarcely have been more than three or four dollars; and for that trifle your property and perhaps your life were held secure.\"\n",
      "\"No more of that, if you please,\" said Growler, showing some annoyance. \"You are running the thing into the ground. I own up square. I was quarreling with my best friend. I was striking at the hand that gave protection. If my war tax next year should be a hundred dollars instead of forty-three, I will pay it without a murmur.\"\n",
      "\"Don't say without a murmur friend Growler.\"\n",
      "\"What then?\"\n",
      "\"Say gladly, as a means of safety.\"\n",
      "\n",
      "\"Put it as you will,\" he answered folding up Collector Riley's receipt which he still held in his hand and bowing himself out.\n",
      "Not many days afterwards I happened to hear some grumbling in my neighbors presence about some income tax. Growler hardly waited to hear him through. My lesson was improved in his hands. In significant phrase he pitched into the offender and read him a lesson so much stronger than mine, that I felt myself thrown into the shade.\n",
      "\"You have been assessed fifty-eight dollars,\" he said in his excited way, \"fifty-eight dollars, one would think from the noise you make about it, that you have been robbed of half your property. Fifty-eight dollars for security at home and abroad! Fifty-eight dollars as your share of the expenses of defense against an enemy that, if unopposed, will desolate our home and destroy our government! Already it has cost the nation for your safety and mine over a thousand million dollars; and, you are angry because it asks for your little part of the expense. Sir you not worthy the name of an American citizen!\"\n",
      "\"That is hard talk, Growler, and I won't hear it!\" said the other.\n",
      "\"It is true talk and you will have to bear it!\" was retorted. \"Fretting over the mean little sum of fifty-eight dollars! Why sir, I know a man who has given his right arm in the cause; and another who has given his right leg. Do they grumble? No sir! I never heard a word of complaint from their lips. Thousands and tens of thousand have given their sons, and wives have given their husbands—sons and husbands who will never more return! They are with the dead. Sir you are dishonoring yourself in the eyes of men. A grumbler over this paltry war tax, for shame!\"\n",
      "I turned away saying in my thoughts:\n",
      "\"So much good done! My reclaimed sinner has become a preacher of righteousness.\"\n",
      "\n",
      "\n",
      "\n"
     ]
    }
   ],
   "source": [
    "## Pretty-print the XML, to see that import worked\n",
    "#print(soup.prettify())\n",
    "\n",
    "## Print the full plain-text version\n",
    "print(soup.body.get_text())"
   ]
  },
  {
   "cell_type": "markdown",
   "metadata": {},
   "source": [
    "Now extract the information required in the problem spec ..."
   ]
  },
  {
   "cell_type": "code",
   "execution_count": 17,
   "metadata": {
    "collapsed": false
   },
   "outputs": [
    {
     "name": "stdout",
     "output_type": "stream",
     "text": [
      "Author: Arthur, T. S. (1809-1885)\n",
      "Wordcount: 1670\n",
      "Body paragraphs: 40\n",
      "Letter content: \n",
      "\n",
      "\"Philadelphia, Sept., 1863.\n",
      "\n",
      "\"RICHARD GROWLER, ESQ.,\n",
      "\"To JOHN M. RILEY. Dr.\n",
      "\"Collector Internal Revenue for the 4th District of \n",
      "Pennsylvania. Office 427 Chestnut St.\n",
      "\n",
      "\n",
      "\"For Tax on Income, for the year 1862 as per return made to the Assessor of the District, $43,21.\n",
      "\n",
      "\"Rec'd payment,\n",
      "\"JOHN M. RILEY, Collector.\"\n",
      "\n",
      "\n"
     ]
    }
   ],
   "source": [
    "# Extract the required information\n",
    "author = soup.author.get_text()\n",
    "wc = len(soup.body.get_text().split())\n",
    "pars = len(soup.body.find_all('p'))\n",
    "letter = soup.find(type=\"letter\").get_text()\n",
    "print(\"Author:\", author)\n",
    "print(\"Wordcount:\", wc)\n",
    "print(\"Body paragraphs:\", pars)\n",
    "print(\"Letter content:\", letter)"
   ]
  },
  {
   "cell_type": "markdown",
   "metadata": {},
   "source": [
    "### JSON\n",
    "\n",
    "Here we'll use the HathiTrust Research Center's [extracted features dataset](https://sharc.hathitrust.org/features), which contains page-level, part-of-speech-tagged word counts from 4.8 million public domain volumes held by the HatiTrust digital library. We'll work with a single book, which happens to be volume 4 of Bret Harte's *Collected Works*. You can see (and search) the [full-text scanned copy](http://babel.hathitrust.org/cgi/pt?id=mdp.39076000600655) via HT's reading interface.\n",
    "\n",
    "Your task is to determine the most frequently occurring noun (singular or plural, common or proper) on the 116th page of this text. For reference, you may want to consult [the relevant page image](http://babel.hathitrust.org/cgi/pt?id=mdp.39076000600655;view=1up;seq=116) in the HT reader. Note that we're interested in the page with sequence number 116, which isn't the same thing as the one with printed page number 116.\n",
    "\n",
    "This is tricky. Or, more accurately, it's conceptually tedious. The JSON loader reads in the JSON data as a multiply nested dictionary of dictionaries, plus a list of dictionaries corresponding to each page in the volume. What you need to do is walk that list of page-level dictionaries, looking for page 116, then iterating over the tokens on that page, selecting the nouns, and keeping track of which one occurs most often.\n",
    "\n",
    "For reference, the structure of the data is as follows:\n",
    "\n",
    "    features\n",
    "        pages\n",
    "            header\n",
    "            footer\n",
    "            [some info about the page, including the 'seq' key for page sequence number]\n",
    "            body\n",
    "                tokenPosCount\n",
    "                    [actual token, i.e., an individual word form]\n",
    "                        [PoS tag, e.g., 'NNP' for proper noun]\n",
    "                            [count, e.g., 3]\n",
    "                            \n",
    "Each one of those levels is the key for a dictionary, which dictionary contains the keys for the level below it, etc. So, when you read in the JSON data, you can address it the way you would any other dictionary, using the relevant keys one after another,  like so:\n",
    "    \n",
    "    data['features']['pages']\n",
    "    \n",
    "... which will yield a list of dictionaries, each containing the feature counts for one page of the volume.\n",
    "\n",
    "Here's the algorithm, in English: Use a `for` loop to iterate over the page-level entries, looking for one with key `'seq'` and value `'00000116'` (note that the value is a string, not an integer). If you've found page 116, iterate over the `'tokenPosCount'` dictionary within the `'body'` dictionary for that page. For each token in that dictionary, examine the associated part of speech tag. If it's a noun (that is, the PoS tag is one of `NN`, `NNS`, `NNP`, or `NNPS`), then record the value associated with the PoS key, which is the count of occurrences of that word with that PoS tag on that page. If it's the largest count yet seen, record both the word and the count. When you've finished iterating over the whole volume, print the word and the count.\n",
    "\n",
    "You can download the [HTRC JSON data](https://raw.githubusercontent.com/wilkens/course-exercises-f15/master/harte.json) from GitHub. It's too long for GitHub to display prettily, so that link takes you directly to the raw JSON. Save the file to your iPython notebook working directory as above.\n",
    "\n",
    "I've given you some code to get started. FYI, my answer requires about 10 additional lines of code."
   ]
  },
  {
   "cell_type": "code",
   "execution_count": 18,
   "metadata": {
    "collapsed": false
   },
   "outputs": [
    {
     "name": "stdout",
     "output_type": "stream",
     "text": [
      "# Brace NNP 1\n",
      "# discovery NN 2\n",
      "# paper NN 4\n",
      "Most common noun on page 116: 'paper' occurs 4 times\n"
     ]
    }
   ],
   "source": [
    "import json\n",
    "\n",
    "with open('harte.json', 'r') as g:\n",
    "    data = json.load(g)  # Parse the JSON input\n",
    "    max_count = 0        # Keep track of largest seen noun count\n",
    "    answer = ''          # Keep track of most frequently occurring noun\n",
    "    for i in data['features']['pages']:  # i is a dictionary of page-level data\n",
    "        if i['seq'] == '00000116':\n",
    "            for j in i['body']['tokenPosCount']:  # j is a dictionary of words on a page\n",
    "                for key in i['body']['tokenPosCount'][j].keys():  # key is a PoS tag\n",
    "                    if key in ('NN', 'NNS', 'NNP', 'NNPS'):\n",
    "                        count = int(i['body']['tokenPosCount'][j][key])\n",
    "                        if count > max_count:\n",
    "                            max_count = count\n",
    "                            answer = j\n",
    "                            print('#', j, key, i['body']['tokenPosCount'][j][key])  # Print each successive maximum, FWIW\n",
    "            break # No need to keep iterating over pages past 116\n",
    "print(f\"Most common noun on page 116: '{answer}' occurs {max_count} times\")  # Print the answer"
   ]
  },
  {
   "cell_type": "code",
   "execution_count": null,
   "metadata": {
    "collapsed": true
   },
   "outputs": [],
   "source": []
  }
 ],
 "metadata": {
  "kernelspec": {
   "display_name": "Python 3",
   "language": "python",
   "name": "python3"
  },
  "language_info": {
   "codemirror_mode": {
    "name": "ipython",
    "version": 3
   },
   "file_extension": ".py",
   "mimetype": "text/x-python",
   "name": "python",
   "nbconvert_exporter": "python",
   "pygments_lexer": "ipython3",
   "version": "3.7.1"
  }
 },
 "nbformat": 4,
 "nbformat_minor": 2
}
