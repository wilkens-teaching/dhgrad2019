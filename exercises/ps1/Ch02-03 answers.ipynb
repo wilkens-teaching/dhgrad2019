{
 "cells": [
  {
   "cell_type": "markdown",
   "metadata": {},
   "source": [
    "# Finger exercises in Guttag\n",
    "## Chapters 2-3\n",
    "### Section 2.2 (p. 18): Basic branching\n",
    "Find the largest odd number among three integers"
   ]
  },
  {
   "cell_type": "code",
   "execution_count": 1,
   "metadata": {
    "collapsed": false
   },
   "outputs": [
    {
     "name": "stdout",
     "output_type": "stream",
     "text": [
      "9\n"
     ]
    }
   ],
   "source": [
    "\"\"\"\n",
    "    For [x,y,z], find largest odd number\n",
    "    Assumed: x, y, and z are positive integers\n",
    "\"\"\"\n",
    "# Declare our variables\n",
    "x = 9\n",
    "y = 8\n",
    "z = -2\n",
    "\n",
    "# Find the odd members\n",
    "#  Note: really want a for loop here ...\n",
    "if x%2 == 0: # Test for evenness; set evens to zero\n",
    "    x = 0\n",
    "if y%2 == 0:\n",
    "    y = 0\n",
    "if z%2 == 0:\n",
    "    z = 0\n",
    "\n",
    "# Find largest odd number\n",
    "if x > y:\n",
    "    if x > z:\n",
    "        print(x)\n",
    "    else:\n",
    "        print(z)\n",
    "else:\n",
    "    if y > z:\n",
    "        print(y)\n",
    "    else:\n",
    "        if z > 0:\n",
    "            print(z)\n",
    "        else:\n",
    "            print(\"No odd numbers\")"
   ]
  },
  {
   "cell_type": "markdown",
   "metadata": {},
   "source": [
    "For reference, here's what the solution would look like with a `for` loop."
   ]
  },
  {
   "cell_type": "code",
   "execution_count": 2,
   "metadata": {
    "collapsed": false
   },
   "outputs": [
    {
     "name": "stdout",
     "output_type": "stream",
     "text": [
      "9\n"
     ]
    }
   ],
   "source": [
    "# Version with for loop\n",
    "largest = 0\n",
    "for i in [x,y,z]:\n",
    "    if i%2 and i > largest:\n",
    "        largest = i\n",
    "if largest:\n",
    "    print(largest)\n",
    "else:\n",
    "    print(\"No odd numbers\")"
   ]
  },
  {
   "cell_type": "markdown",
   "metadata": {},
   "source": [
    "### 2.4 (24): Iteration, user input\n",
    "\n",
    "#### `while` loop"
   ]
  },
  {
   "cell_type": "code",
   "execution_count": 2,
   "metadata": {},
   "outputs": [
    {
     "name": "stdin",
     "output_type": "stream",
     "text": [
      "How many times should I print the letter X?  5\n"
     ]
    },
    {
     "name": "stdout",
     "output_type": "stream",
     "text": [
      "XXXXX\n"
     ]
    }
   ],
   "source": [
    "numXs = int(input(\"How many times should I print the letter X? \"))\n",
    "toPrint = ''\n",
    "i = 0\n",
    "while i < numXs:\n",
    "    toPrint+='X'\n",
    "    i+=1\n",
    "print(toPrint)"
   ]
  },
  {
   "cell_type": "markdown",
   "metadata": {},
   "source": [
    "#### Largest integer\n",
    "Get ten integers from the user. Find largest odd among them."
   ]
  },
  {
   "cell_type": "code",
   "execution_count": 1,
   "metadata": {
    "collapsed": false
   },
   "outputs": [
    {
     "name": "stdout",
     "output_type": "stream",
     "text": [
      "10 iterations left\n"
     ]
    },
    {
     "name": "stdin",
     "output_type": "stream",
     "text": [
      "Enter an integer:  1\n"
     ]
    },
    {
     "name": "stdout",
     "output_type": "stream",
     "text": [
      "9 iterations left\n"
     ]
    },
    {
     "name": "stdin",
     "output_type": "stream",
     "text": [
      "Enter an integer:  5\n"
     ]
    },
    {
     "name": "stdout",
     "output_type": "stream",
     "text": [
      "8 iterations left\n"
     ]
    },
    {
     "name": "stdin",
     "output_type": "stream",
     "text": [
      "Enter an integer:  3\n"
     ]
    },
    {
     "name": "stdout",
     "output_type": "stream",
     "text": [
      "7 iterations left\n"
     ]
    },
    {
     "name": "stdin",
     "output_type": "stream",
     "text": [
      "Enter an integer:  6\n"
     ]
    },
    {
     "name": "stdout",
     "output_type": "stream",
     "text": [
      "6 iterations left\n"
     ]
    },
    {
     "name": "stdin",
     "output_type": "stream",
     "text": [
      "Enter an integer:  23\n"
     ]
    },
    {
     "name": "stdout",
     "output_type": "stream",
     "text": [
      "5 iterations left\n"
     ]
    },
    {
     "name": "stdin",
     "output_type": "stream",
     "text": [
      "Enter an integer:  5\n"
     ]
    },
    {
     "name": "stdout",
     "output_type": "stream",
     "text": [
      "4 iterations left\n"
     ]
    },
    {
     "name": "stdin",
     "output_type": "stream",
     "text": [
      "Enter an integer:  7\n"
     ]
    },
    {
     "name": "stdout",
     "output_type": "stream",
     "text": [
      "3 iterations left\n"
     ]
    },
    {
     "name": "stdin",
     "output_type": "stream",
     "text": [
      "Enter an integer:  9\n"
     ]
    },
    {
     "name": "stdout",
     "output_type": "stream",
     "text": [
      "2 iterations left\n"
     ]
    },
    {
     "name": "stdin",
     "output_type": "stream",
     "text": [
      "Enter an integer:  345\n"
     ]
    },
    {
     "name": "stdout",
     "output_type": "stream",
     "text": [
      "1 iterations left\n"
     ]
    },
    {
     "name": "stdin",
     "output_type": "stream",
     "text": [
      "Enter an integer:  6\n"
     ]
    },
    {
     "name": "stdout",
     "output_type": "stream",
     "text": [
      "Largest odd number is 345\n"
     ]
    }
   ],
   "source": [
    "# Set control variables\n",
    "largest = 0\n",
    "iters = 10\n",
    "while (iters != 0):\n",
    "    print(iters, \"iterations left\")      # Keep the user informed\n",
    "    x = int(input(\"Enter an integer: \")) # Get user input; note attempt to coerce to int\n",
    "    if x%2 == 1:                         # Odd?\n",
    "        if x > largest:                  # If so, biggest yet? \n",
    "            largest = x\n",
    "    iters -= 1\n",
    "if largest == 0:\n",
    "    print(\"No odd numbers\")\n",
    "else:\n",
    "    print(\"Largest odd number is\", largest)"
   ]
  },
  {
   "cell_type": "markdown",
   "metadata": {},
   "source": [
    "### 3.1 (27): Exhaustive enumeration\n",
    "Get an integer from the user. Find two ints such that `root**pwr = input`. Constrain 1 < pwr < 6 (i.e., `pwr` = 2, 3 , 4, or 5).\n",
    "\n",
    "**Note** that the text calls for powers from 1 through 5, which produces a trivial answer."
   ]
  },
  {
   "cell_type": "code",
   "execution_count": 3,
   "metadata": {
    "collapsed": false
   },
   "outputs": [
    {
     "name": "stdin",
     "output_type": "stream",
     "text": [
      "Enter a positive integer:  16\n"
     ]
    },
    {
     "name": "stdout",
     "output_type": "stream",
     "text": [
      "4 ** 2 = 16\n"
     ]
    }
   ],
   "source": [
    "# Control variables\n",
    "success = False\n",
    "root = 0\n",
    "pwr = 2\n",
    "value = int(input(\"Enter a positive integer: \"))\n",
    "\n",
    "while pwr < 6: # Looping over powers; examine lowest powers first\n",
    "    while root <= value:\n",
    "        # Note 'and' test below; only generate *one* solution\n",
    "        if root**pwr == value and success == False:\n",
    "            print(root, \"**\", pwr, \"=\", value)\n",
    "            success = True                     # Could use break instead ...\n",
    "        root += 1\n",
    "    root = 0\n",
    "    pwr += 1\n",
    "if success == False:\n",
    "    print(\"Cannot find answer with root <\", value, \"and pwr < 6\")"
   ]
  },
  {
   "cell_type": "markdown",
   "metadata": {},
   "source": [
    "### 3.2 (30): For loops\n",
    "\n",
    "Parse a string of comma separated floats. Print sum of input floats.\n",
    "\n",
    "The key insight here is that you can iterate over the characters of a string. The text doesn't introduce this concept, but it's a straightforward extension of iteration over ranges, lists, etc. Still, it's is a tricky problem for most newcomers!"
   ]
  },
  {
   "cell_type": "code",
   "execution_count": 4,
   "metadata": {
    "collapsed": false
   },
   "outputs": [
    {
     "name": "stdout",
     "output_type": "stream",
     "text": [
      "76.6399994\n"
     ]
    }
   ],
   "source": [
    "total = 0.0 # Running sum\n",
    "temp = ''   # Current float\n",
    "s = '1.2399994,2.4,71.0000,2'  # Input string\n",
    "for i in s:\n",
    "    if i == ',':               # If reached a separator, perform add\n",
    "        total += float(temp)   # Note cast from string to float\n",
    "        temp = ''\n",
    "    else:\n",
    "        temp += i\n",
    "total += float(temp) # Add the last float\n",
    "print(total)"
   ]
  },
  {
   "cell_type": "markdown",
   "metadata": {},
   "source": [
    "### 3.3 (34): Bisection search\n",
    "Change the code in Fig. 3.4 to handle cube roots of pos. and neg. ints. As originally written, code will loop forever on negative ints."
   ]
  },
  {
   "cell_type": "code",
   "execution_count": 5,
   "metadata": {
    "collapsed": false
   },
   "outputs": [
    {
     "name": "stdout",
     "output_type": "stream",
     "text": [
      "low = -13 high = 0.0 ans = -6.5\n",
      "low = -6.5 high = 0.0 ans = -3.25\n",
      "low = -3.25 high = 0.0 ans = -1.625\n",
      "low = -3.25 high = -1.625 ans = -2.4375\n",
      "low = -2.4375 high = -1.625 ans = -2.03125\n",
      "low = -2.4375 high = -2.03125 ans = -2.234375\n",
      "low = -2.4375 high = -2.234375 ans = -2.3359375\n",
      "low = -2.4375 high = -2.3359375 ans = -2.38671875\n",
      "low = -2.38671875 high = -2.3359375 ans = -2.361328125\n",
      "low = -2.361328125 high = -2.3359375 ans = -2.3486328125\n",
      "low = -2.361328125 high = -2.3486328125 ans = -2.35498046875\n",
      "numGuesses = 11\n",
      "-2.351806640625 is close to the cube root of -13\n"
     ]
    }
   ],
   "source": [
    "x = -13\n",
    "epsilon = 0.01\n",
    "numGuesses = 0\n",
    "low = min(0.0,x) # <-- changed from 'low = 0'\n",
    "high = max(0.0,x)\n",
    "ans = (high + low)/2.0\n",
    "while abs(ans**3 - x) >= epsilon:\n",
    "    print('low =', low, 'high =', high, 'ans =', ans)\n",
    "    numGuesses += 1\n",
    "    if ans**3 < x:\n",
    "        low = ans\n",
    "    else:\n",
    "        high = ans\n",
    "    ans = (high + low)/2.0\n",
    "print('numGuesses =', numGuesses)\n",
    "print(ans, 'is close to the cube root of', x)"
   ]
  },
  {
   "cell_type": "markdown",
   "metadata": {},
   "source": [
    "### 3.4 (35): Binary numbers\n",
    "`'10011' = 16*1 + 8*0 + 4*0 + 2*1 + 1*1 = 19`\n",
    "\n",
    "### 3.5 (38): Newton-Raphson vs. bisection search efficiency\n",
    "\n",
    "Compare efficiency of these methods in finding square roots. This is all as in the supplied code, except for tracking the iterations.\n"
   ]
  },
  {
   "cell_type": "code",
   "execution_count": 7,
   "metadata": {
    "collapsed": false
   },
   "outputs": [
    {
     "name": "stdout",
     "output_type": "stream",
     "text": [
      "Find the square root of 30 +/- 0.001\n",
      "Bisection root:      5.477142333984375 \t[ 15 iterations ]\n",
      "Newton-Raphson root: 5.477277991889814 \t[ 4 iterations ]\n",
      "Newton-Raphson is 3.75 times more efficient\n"
     ]
    }
   ],
   "source": [
    "k = 30          # Num of which to find sqrt\n",
    "epsilon = 0.001 # Tolerance for solution \n",
    "print(\"Find the square root of\", k, \"+/-\", epsilon)\n",
    "\n",
    "# Bisection search (see Fig. 3.4)\n",
    "bisec = 0       # Count bisection iterations\n",
    "low = 0.0\n",
    "high = max(0.0,k)\n",
    "guess = (high + low)/2.0\n",
    "while abs(guess**2 - k) >= epsilon:\n",
    "    bisec += 1\n",
    "    if guess**2 < k:\n",
    "        low = guess\n",
    "    else:\n",
    "        high = guess\n",
    "    guess = (high + low)/2.0\n",
    "print(\"Bisection root:     \", guess, \"\\t[\", bisec, \"iterations ]\")\n",
    "\n",
    "# Newton-Raphson method (see Fig 3.5)\n",
    "guess = k/2.0 # Initial guess\n",
    "newton = 0     # Count iterations\n",
    "while abs(guess**2 - k) >= epsilon:\n",
    "    guess = guess - (((guess**2) - k)/(2*guess))\n",
    "    newton += 1\n",
    "print(\"Newton-Raphson root:\", guess, \"\\t[\", newton, \"iterations ]\")\n",
    "print(\"Newton-Raphson is\", float(bisec)/float(newton), \"times more efficient\")"
   ]
  },
  {
   "cell_type": "code",
   "execution_count": null,
   "metadata": {},
   "outputs": [],
   "source": []
  }
 ],
 "metadata": {
  "kernelspec": {
   "display_name": "Python 3",
   "language": "python",
   "name": "python3"
  },
  "language_info": {
   "codemirror_mode": {
    "name": "ipython",
    "version": 3
   },
   "file_extension": ".py",
   "mimetype": "text/x-python",
   "name": "python",
   "nbconvert_exporter": "python",
   "pygments_lexer": "ipython3",
   "version": "3.7.1"
  }
 },
 "nbformat": 4,
 "nbformat_minor": 2
}
