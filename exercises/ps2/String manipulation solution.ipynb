{
 "cells": [
  {
   "cell_type": "markdown",
   "metadata": {},
   "source": [
    "# String manipulation\n",
    "## Week 3\n",
    "Through Guttag chapter 7.\n",
    "\n",
    "One of the things you'll often do when computing with texts is manipulate strings of characters and words. At the very least, many techniques will require you to split a string into its constituent words, perhaps converting them to lower case and removing punctuation in the process.\n",
    "\n",
    "These excercises will help you get a handle on basic string manipulation functions and methods. Guttag's text has a helpful list of (some) string methods on page 79. You should also consult the (fuller) [Python documentation](https://docs.python.org/3/library/stdtypes.html#string-methods) of same.\n",
    "\n",
    "Note that none of the problems below should require more than 5-10 lines of code.\n",
    "\n",
    "### Some text\n",
    "\n",
    "First, consider the opening paragraph of *Moby-Dick*:\n",
    "\n",
    "> Call me Ishmael. Some years ago - never mind how long precisely - having little or no money in my purse, and nothing particular to interest me on shore, I thought I would sail about a little and see the watery part of the world. It is a way I have of driving off the spleen and regulating the circulation. Whenever I find myself growing grim about the mouth; whenever it is a damp, drizzly November in my soul; whenever I find myself involuntarily pausing before coffin warehouses, and bringing up the rear of every funeral I meet; and especially whenever my hypos get such an upper hand of me, that it requires a strong moral principle to prevent me from deliberately stepping into the street, and methodically knocking people's hats off - then, I account it high time to get to sea as soon as I can. This is my substitute for pistol and ball. With a philosophical flourish Cato throws himself upon his sword; I quietly take to the ship. There is nothing surprising in this. If they but knew it, almost all men in their degree, some time or other, cherish very nearly the same feelings towards the ocean with me.\n",
    "\n",
    "### 1. Enter a string\n",
    "\n",
    "This is the string with which we'll work for most of the exercise. Enter it as a variable below. **NB**. The string contains quatation marks (well, one apostrophe, anyway). How do you include those in a string?"
   ]
  },
  {
   "cell_type": "code",
   "execution_count": 11,
   "metadata": {
    "collapsed": true
   },
   "outputs": [
    {
     "name": "stdout",
     "output_type": "stream",
     "text": [
      "Call me Ishmael. Some years ago - never mind how long precisely - having little or no money in my purse, and nothing particular to interest me on shore, I thought I would sail about a little and see the watery part of the world. It is a way I have of driving off the spleen and regulating the circulation. Whenever I find myself growing grim about the mouth; whenever it is a damp, drizzly November in my soul; whenever I find myself involuntarily pausing before coffin warehouses, and bringing up the rear of every funeral I meet; and especially whenever my hypos get such an upper hand of me, that it requires a strong moral principle to prevent me from deliberately stepping into the street, and methodically knocking people's hats off - then, I account it high time to get to sea as soon as I can. This is my substitute for pistol and ball. With a philosophical flourish Cato throws himself upon his sword; I quietly take to the ship. There is nothing surprising in this. If they but knew it, almost all men in their degree, some time or other, cherish very nearly the same feelings towards the ocean with me.\n"
     ]
    }
   ],
   "source": [
    "# Store the string above in a variable. I'd suggest 's', but it's up to you.\n",
    "s = '''Call me Ishmael. Some years ago - never mind how long precisely - having little or no money in my purse, and nothing particular to interest me on shore, I thought I would sail about a little and see the watery part of the world. It is a way I have of driving off the spleen and regulating the circulation. Whenever I find myself growing grim about the mouth; whenever it is a damp, drizzly November in my soul; whenever I find myself involuntarily pausing before coffin warehouses, and bringing up the rear of every funeral I meet; and especially whenever my hypos get such an upper hand of me, that it requires a strong moral principle to prevent me from deliberately stepping into the street, and methodically knocking people's hats off - then, I account it high time to get to sea as soon as I can. This is my substitute for pistol and ball. With a philosophical flourish Cato throws himself upon his sword; I quietly take to the ship. There is nothing surprising in this. If they but knew it, almost all men in their degree, some time or other, cherish very nearly the same feelings towards the ocean with me.'''\n",
    "print(s)"
   ]
  },
  {
   "cell_type": "markdown",
   "metadata": {},
   "source": [
    "### 2. String basics\n",
    "\n",
    "Nice. OK, so we have the paragraph in computable form. How many characters does it contain? What's the 100th character?"
   ]
  },
  {
   "cell_type": "code",
   "execution_count": 15,
   "metadata": {
    "collapsed": false
   },
   "outputs": [
    {
     "name": "stdout",
     "output_type": "stream",
     "text": [
      "Length in characters: 1113\n",
      "Character 100 (index position 99): u\n"
     ]
    }
   ],
   "source": [
    "print(\"Length in characters:\", len(s))\n",
    "print(\"Character 100 (index position 99):\", s[99])"
   ]
  },
  {
   "cell_type": "markdown",
   "metadata": {},
   "source": [
    "Counting spaces provides a rough proxy for the number of words in a string. How many spaces are in our string?"
   ]
  },
  {
   "cell_type": "code",
   "execution_count": 16,
   "metadata": {
    "collapsed": false
   },
   "outputs": [
    {
     "name": "stdout",
     "output_type": "stream",
     "text": [
      "Spaces: 203\n"
     ]
    }
   ],
   "source": [
    "spaces = s.count(' ')\n",
    "print(\"Spaces:\", spaces)"
   ]
  },
  {
   "cell_type": "code",
   "execution_count": 17,
   "metadata": {},
   "outputs": [
    {
     "name": "stdout",
     "output_type": "stream",
     "text": [
      "Words: 204\n"
     ]
    }
   ],
   "source": [
    "# Alternatively, split and count words\n",
    "print(\"Words:\", len(s.split()))"
   ]
  },
  {
   "cell_type": "markdown",
   "metadata": {},
   "source": [
    "### 3. String methods\n",
    "\n",
    "Write a function that takes one argument of type `string` and returns a transformation of that string into lowercase with all punctuation marks replaced with spaces. For example, your code should render \"`Moby-Dick is a long book! It's rough.`\" as \"`moby dick is a long book  it s rough `\".\n",
    "\n",
    "Hint: Use the `lower()` and `replace()` methods. You can define your own list of punctuation marks, or `import` the `string` module to use Python's [built-in list](https://docs.python.org/3.4/library/string.html#string-constants)."
   ]
  },
  {
   "cell_type": "code",
   "execution_count": 19,
   "metadata": {
    "collapsed": false
   },
   "outputs": [
    {
     "name": "stdout",
     "output_type": "stream",
     "text": [
      "call me ishmael  some years ago   never mind how long precisely   having little or no money in my purse  and nothing particular to interest me on shore  i thought i would sail about a little and see the watery part of the world  it is a way i have of driving off the spleen and regulating the circulation  whenever i find myself growing grim about the mouth  whenever it is a damp  drizzly november in my soul  whenever i find myself involuntarily pausing before coffin warehouses  and bringing up the rear of every funeral i meet  and especially whenever my hypos get such an upper hand of me  that it requires a strong moral principle to prevent me from deliberately stepping into the street  and methodically knocking people s hats off   then  i account it high time to get to sea as soon as i can  this is my substitute for pistol and ball  with a philosophical flourish cato throws himself upon his sword  i quietly take to the ship  there is nothing surprising in this  if they but knew it  almost all men in their degree  some time or other  cherish very nearly the same feelings towards the ocean with me \n"
     ]
    }
   ],
   "source": [
    "import string\n",
    "\n",
    "def text_clean(n):\n",
    "    for i in string.punctuation:\n",
    "        n = n.replace(i, ' ')\n",
    "    n = n.lower()\n",
    "    return n\n",
    "\n",
    "s = text_clean(s)\n",
    "print(s)"
   ]
  },
  {
   "cell_type": "markdown",
   "metadata": {},
   "source": [
    "### 4. Counting words\n",
    "\n",
    "OK, grand finale. Write a function that takes a string and returns a dictionary of word counts, keyed to the unique words it contains. For example, \"`the cat is a good cat`\" should return `{'good': 1, 'the': 1, 'cat': 2, 'is': 1, 'a': 1}`, though not necessarily in that order, since key order in dictionaries is arbitrary.\n",
    "\n",
    "Hint: use the `split()` method and `try/except` blocks for flow control. Review `dict`s on Guttag p. 67ff. Note that `split()` returns a list over which you can iterate.\n",
    "\n",
    "Use the function you just wrote to produce a list of wordcounts in the (lowercase, punctuation-free) *Moby-Dick* string. How many times does the word \"the\" occur?"
   ]
  },
  {
   "cell_type": "code",
   "execution_count": 20,
   "metadata": {
    "collapsed": false
   },
   "outputs": [
    {
     "name": "stdout",
     "output_type": "stream",
     "text": [
      "the: 10\n"
     ]
    }
   ],
   "source": [
    "def count_words(s):\n",
    "    word_counts = {}\n",
    "    tokens = s.split()\n",
    "    for i in tokens:\n",
    "        try:\n",
    "            word_counts[i] += 1\n",
    "        except KeyError:\n",
    "            word_counts[i] = 1\n",
    "    return word_counts\n",
    "\n",
    "print(\"the:\", count_words(s)['the'])"
   ]
  },
  {
   "cell_type": "markdown",
   "metadata": {},
   "source": [
    "### 5. Bonus\n",
    "\n",
    "To be clear, this question is optional.\n",
    "\n",
    "Ingest the full [plain-text file of *Moby-Dick*](https://raw.githubusercontent.com/wilkens/course-exercises-f15/master/mobydick.txt) from Project Gutenberg. Pre-process it as above, count the words in it, and print a list of the 25 most frequently occurring words (with counts).\n",
    "\n",
    "Hint: You'll need to figure out how to sort a dictionary by values. There are several ways to do this, none of them entirely straightforward. I'd suggest looking into the `sorted()` function and the `.get` method."
   ]
  },
  {
   "cell_type": "code",
   "execution_count": 23,
   "metadata": {
    "collapsed": false
   },
   "outputs": [
    {
     "name": "stdout",
     "output_type": "stream",
     "text": [
      "the \t 14432\n",
      "of \t 6609\n",
      "and \t 6430\n",
      "a \t 4737\n",
      "to \t 4625\n",
      "in \t 4173\n",
      "that \t 3085\n",
      "his \t 2530\n",
      "it \t 2521\n",
      "i \t 2127\n",
      "he \t 1896\n",
      "but \t 1818\n",
      "s \t 1802\n",
      "as \t 1741\n",
      "is \t 1724\n",
      "with \t 1722\n",
      "was \t 1644\n",
      "for \t 1617\n",
      "all \t 1526\n",
      "this \t 1394\n",
      "at \t 1319\n",
      "whale \t 1228\n",
      "by \t 1204\n",
      "not \t 1151\n",
      "from \t 1088\n"
     ]
    }
   ],
   "source": [
    "with open('mobydick.txt', 'r') as f:\n",
    "    moby = f.read()\n",
    "    moby = text_clean(moby)\n",
    "    counts = count_words(moby)\n",
    "    top = sorted(counts, key=counts.get, reverse = True)\n",
    "    for i in range(25):\n",
    "        print(top[i], '\\t', counts[top[i]])"
   ]
  },
  {
   "cell_type": "code",
   "execution_count": 24,
   "metadata": {},
   "outputs": [
    {
     "name": "stdout",
     "output_type": "stream",
     "text": [
      "[('the', 14432), ('of', 6609), ('and', 6430), ('a', 4737), ('to', 4625), ('in', 4173), ('that', 3085), ('his', 2530), ('it', 2521), ('i', 2127), ('he', 1896), ('but', 1818), ('s', 1802), ('as', 1741), ('is', 1724), ('with', 1722), ('was', 1644), ('for', 1617), ('all', 1526), ('this', 1394), ('at', 1319), ('whale', 1228), ('by', 1204), ('not', 1151), ('from', 1088)]\n"
     ]
    }
   ],
   "source": [
    "# Redefine count_words using Counter() class\n",
    "def counter_words(s):\n",
    "    from collections import Counter\n",
    "    word_counts = Counter()\n",
    "    tokens = s.split()\n",
    "    for i in tokens:\n",
    "        word_counts[i] += 1\n",
    "    return word_counts\n",
    "\n",
    "with open('mobydick.txt', 'r') as f:\n",
    "    moby = f.read()\n",
    "    moby = text_clean(moby)\n",
    "    counts_new = counter_words(moby)\n",
    "    print(counts_new.most_common(25))"
   ]
  },
  {
   "cell_type": "code",
   "execution_count": 27,
   "metadata": {
    "collapsed": false
   },
   "outputs": [
    {
     "data": {
      "image/png": "[encoded data removed]",
      "text/plain": [
       "<Figure size 864x576 with 1 Axes>"
      ]
     },
     "metadata": {
      "needs_background": "light"
     },
     "output_type": "display_data"
    }
   ],
   "source": [
    "# Zipf's law!\n",
    "%matplotlib inline\n",
    "import numpy as np\n",
    "import matplotlib.pyplot as plt\n",
    "\n",
    "ranks = []\n",
    "occurrences = []\n",
    "rank = 1\n",
    "\n",
    "for word in top: # Build lists of ranks and counts\n",
    "    occurrences.append(counts[word])\n",
    "    ranks.append(rank)\n",
    "    rank += 1\n",
    "\n",
    "plt.figure(figsize=(12,8))\n",
    "\n",
    "plt.scatter(ranks[:1000], np.log(occurrences[:1000]), alpha=0.2, s=100) # Real\n",
    "plt.plot(range(1,1001), [np.log(occurrences[0]/i) for i in range(1,1001)]) # Synthetic\n",
    "\n",
    "plt.xlabel(\"Rank\", size=14)\n",
    "plt.ylabel(\"log(Count)\", size=14)\n",
    "plt.title(\"Zipf's law\", size=20)\n",
    "plt.show()"
   ]
  },
  {
   "cell_type": "code",
   "execution_count": null,
   "metadata": {},
   "outputs": [],
   "source": []
  }
 ],
 "metadata": {
  "kernelspec": {
   "display_name": "Python 3",
   "language": "python",
   "name": "python3"
  },
  "language_info": {
   "codemirror_mode": {
    "name": "ipython",
    "version": 3
   },
   "file_extension": ".py",
   "mimetype": "text/x-python",
   "name": "python",
   "nbconvert_exporter": "python",
   "pygments_lexer": "ipython3",
   "version": "3.7.1"
  }
 },
 "nbformat": 4,
 "nbformat_minor": 2
}
